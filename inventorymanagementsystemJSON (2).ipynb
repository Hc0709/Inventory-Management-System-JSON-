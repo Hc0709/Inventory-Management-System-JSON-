{
 "cells": [
  {
   "cell_type": "code",
   "execution_count": null,
   "id": "b003ea90",
   "metadata": {},
   "outputs": [],
   "source": [
    "#import json\n",
    "\n",
    "#record = {1001   : {\"name\":\"5star\"   ,\"Price\":10   ,\"quan\":100},\n",
    "           #1002   :  {\"name\":\"silk\"     ,\"Price\":100  ,\"quan\":50},\n",
    "           #1003   : {\"name\":\"twix\"     ,\"Price\":30   ,\"quan\":150},\n",
    "           #1004   : {\"name\":\"milkybar\" ,\"Price\":40   ,\"quan\":110},\n",
    "           #1005   : {\"name\":\"galaxy\"   ,\"Price\":20   ,\"quan\":100}}"
   ]
  },
  {
   "cell_type": "code",
   "execution_count": null,
   "id": "7ca45975",
   "metadata": {},
   "outputs": [],
   "source": [
    "#record"
   ]
  },
  {
   "cell_type": "code",
   "execution_count": null,
   "id": "986a791e",
   "metadata": {},
   "outputs": [],
   "source": [
    "#record[1001]['name']"
   ]
  },
  {
   "cell_type": "code",
   "execution_count": null,
   "id": "e61c279f",
   "metadata": {},
   "outputs": [],
   "source": [
    "#record[1001]['Price']"
   ]
  },
  {
   "cell_type": "code",
   "execution_count": null,
   "id": "9a4e606e",
   "metadata": {},
   "outputs": [],
   "source": [
    "#for i in record:\n",
    "    #print(i,record[i])"
   ]
  },
  {
   "cell_type": "code",
   "execution_count": null,
   "id": "5293c877",
   "metadata": {},
   "outputs": [],
   "source": [
    "\n",
    "#import json\n",
    "\n",
    "#print(\"--------------------MENU---------------------\")\n",
    "#for key in records.keys():\n",
    "#    print(key, records[key]['name'], records[key]['Price'], records[key]['quan'])\n",
    "#print(\"---------------------------------------------\")\n",
    "#print('')\n",
    "\n",
    "#ui_pr = int(input(\"Enter product ID : \"))\n",
    "#ui_qn = int(input(\"Enter Quantiry   : \"))\n",
    "\n",
    "#print(\"---------------------------------------------\")\n",
    "#print('')\n",
    "\n",
    "#print(\"Name      : \", records[ui_pr][\"name\"])\n",
    "#print(\"Price (Rs): \", records[ui_pr][\"Price\"])\n",
    "#print(\"Quantity  : \", ui_qn)\n",
    "#print(\"---------------------------------------------\")\n",
    "#print(\"Billing   : \", ui_qn * records[ui_pr][\"Price\"], \"Rs\")\n",
    "#print(\"---------------------------------------------\")\n",
    "\n",
    "\n",
    "#js = json.dumps(records)\n",
    "\n",
    "#fd = open('records.json','w')\n",
    "#fd.write(js)\n",
    "#fd.close()"
   ]
  },
  {
   "cell_type": "code",
   "execution_count": 2,
   "id": "695562df",
   "metadata": {},
   "outputs": [
    {
     "ename": "IndentationError",
     "evalue": "unindent does not match any outer indentation level (<tokenize>, line 82)",
     "output_type": "error",
     "traceback": [
      "\u001b[1;36m  File \u001b[1;32m<tokenize>:82\u001b[1;36m\u001b[0m\n\u001b[1;33m    if(Billing amount>1000):\u001b[0m\n\u001b[1;37m    ^\u001b[0m\n\u001b[1;31mIndentationError\u001b[0m\u001b[1;31m:\u001b[0m unindent does not match any outer indentation level\n"
     ]
    }
   ],
   "source": [
    "#importing libraries\n",
    "import json\n",
    "import time\n",
    "\n",
    "#initailizing variable\n",
    "sales = ' '\n",
    "\n",
    "#load file- open file -read data from file convert back to dict (Loading the inventoryrecords from json to string)\n",
    "fd = open(\"records.json\",'r')\n",
    "js = fd.read()\n",
    "fd.close()\n",
    " \n",
    "#to convert string records to JSON/dictionaries so that it can be accessed(loads data from JSON FILE)\n",
    "records =  json.loads(js)\n",
    "\n",
    "#displaying menu\n",
    "print(\"________________MENU__________________\")\n",
    "\n",
    "for key in records.keys():\n",
    "    print(key, \":\",records[key]['name'],'|',records[key]['Price'],'|',records[key]['quan'])\n",
    "    \n",
    "print(\"______________________________________\")\n",
    "\n",
    "#taking user inputs abt the purchase and user details\n",
    "user_name =str(input(\"enter your name          :\"))\n",
    "user_email =str(input(\"enter your email        :\"))\n",
    "user_phno =str(input(\"enter your phonenumber   :\"))\n",
    "uid = str(input(\"Enter product  ID             :\"))\n",
    "quantity = int(input(\"enter the quantity       :\"))\n",
    "\n",
    "#to check whether we have equal or more quantity in our inventory\n",
    "if(records[uid]['quan']>=quantity):\n",
    "    \n",
    "    \n",
    "    #displaying purchase details\n",
    "    print(\"_______________________________________\")\n",
    "    print(\"            BILL_DETAILS                \")\n",
    "    print(\"Name      :\",  records[uid]['name'])\n",
    "    print(\"Price     :\" , records[uid]['Price'],\"rs\")\n",
    "    print(\"Quantity  :\",  quantity)\n",
    "    print(\"__________________________________________\")\n",
    "    print(\"Billing amount :\" , records[uid]['Price'] * quantity,\"rs\")\n",
    "    print(\"__________________________________________\")\n",
    "    \n",
    "    #generating sales in csv format\n",
    "     sales = '1'+\",\"+user_name+\",\"+user_email+\",\"+user_phno+\",\"+uid+\",\"+records[uid]['name']+\",\"+str(quantity)+\",\"+str(quantity*records[uid]['Price'])+','+c.time()+'\\n\n",
    "    \n",
    "          \n",
    "    #to reduce the quantity after purchase(updating record)\n",
    "    records[uid]['quan']=records[uid]['quan']-quantity\n",
    "\n",
    "#if we are not having enough quantity\n",
    "\n",
    "else:\n",
    "    \n",
    "    #displaying info about available quantity\n",
    "    print(\"sorry we are not having enough quantity in our inventory\")\n",
    "    print(\"we are only having\", records[uid]['quan'], \"available\")\n",
    "    print(\"_______________________________________\")\n",
    "    \n",
    "    #if user wants to purchase whole quantity ie available quantity\n",
    "    ch = str(input(\"press Y/y to purchase\"))\n",
    "    \n",
    "    if(records[uid]['quan']==0):\n",
    "        print(\"no items available sorry!!!\")\n",
    "   \n",
    "  #if user wants to purchase or not\n",
    "\n",
    "if(ch == 'y'or ch =='Y'):\n",
    "        \n",
    "        #displaying purchase details\n",
    "        print(\"_______________________________________\")\n",
    "        print(\"            BILL_DETAILS                \")\n",
    "        print(\"Name      :\",  records[uid]['name'])\n",
    "        print(\"Price     :\" , records[uid]['Price'],\"rs\")\n",
    "        print(\"Quantity  :\",  records[uid]['quan'])\n",
    "        print(\"__________________________________________\")\n",
    "        print(\"Billing amount :\" ,records[uid]['Price'] * records[uid]['quan'] ,\"rs\")\n",
    "        print(\"__________________________________________\")\n",
    "        \n",
    "        \n",
    "    if(Billing amount>1000):\n",
    "        print(\"Discount =\" Billing amount - 100)\n",
    "        \n",
    "    sales = '1'+\",\"+user_name+\",\"+user_email+\",\"+user_phno+\",\"+uid+\",\"+records[uid]['name']+\",\"+str(records[uid]['quan'])+\",\"+str(records[uid]['quan']*records[uid]['Price'])+','+c.time()+'\\n'\n",
    "        \n",
    "        #to reduce the quantity after purchase/as we are giving whole quantity it becomes 0\n",
    "        records[uid]['quan']= 0\n",
    "\n",
    "        fd =open('sales.txt','a')\n",
    "        fd.write(sales)\n",
    "        fd.close()\n",
    "\n",
    "        #if user presses anything apart from y/Y\n",
    "else:\n",
    "        print('Thank youuu!!!!')\n",
    "\n",
    "\n",
    "    \n",
    "\n",
    "#converting dictionary to string to store details in text file convert it into string\n",
    "js = json.dumps(records)\n",
    "\n",
    "#saving records in JSON file\n",
    "fd = open(\"records.json\",\"w\")\n",
    "fd.write(js)\n",
    "fd.close()\n",
    "\n",
    "  \n",
    "#to save sales/transaction in text file\n",
    "fd =open('sales.txt','a')\n",
    "fd.write(sales)\n",
    "fd.close()\n",
    "\n",
    "print(\"__________________________________________\")\n",
    "\n",
    "print(\"Thanks for your order inventory updated\")\n",
    "\n",
    "print(\"__________________________________________\")\n",
    "\n"
   ]
  },
  {
   "cell_type": "code",
   "execution_count": null,
   "id": "89563bde",
   "metadata": {},
   "outputs": [
    {
     "name": "stdout",
     "output_type": "stream",
     "text": [
      "________________MENU__________________\n",
      "1001 : 5star | 10 | 78\n",
      "1002 : silk | 100 | 1\n",
      "1003 : twix | 30 | 120\n",
      "1004 : milkybar | 40 | 234\n",
      "1005 : galaxy | 20 | 111\n",
      "______________________________________\n"
     ]
    }
   ],
   "source": [
    "import json\n",
    "import time\n",
    "\n",
    "# Load file - open file - read data from file convert back to dict (Loading the inventory records from JSON to string)\n",
    "fd = open(\"records.json\", 'r')\n",
    "js = fd.read()\n",
    "fd.close()\n",
    "\n",
    "# Convert string records to JSON/dictionaries so that it can be accessed (loads data from JSON FILE)\n",
    "records = json.loads(js)\n",
    "\n",
    "# Displaying menu\n",
    "print(\"________________MENU__________________\")\n",
    "\n",
    "for key in records.keys():\n",
    "    print(key, \":\", records[key]['name'], '|', records[key]['Price'], '|', records[key]['quan'])\n",
    "\n",
    "print(\"______________________________________\")\n",
    "\n",
    "# Taking user inputs about the purchase and user details\n",
    "user_name = str(input(\"Enter your name          :\"))\n",
    "user_email = str(input(\"Enter your email         :\"))\n",
    "user_phno = str(input(\"Enter your phone number  :\"))\n",
    "uid = str(input(\"Enter product ID         :\"))\n",
    "quantity = int(input(\"Enter the quantity       :\"))\n",
    "\n",
    "# Check whether we have equal or more quantity in our inventory\n",
    "if records[uid]['quan'] >= quantity:\n",
    "    # Displaying purchase details\n",
    "    print(\"_______________________________________\")\n",
    "    print(\"            BILL DETAILS                \")\n",
    "    print(\"Name      :\", records[uid]['name'])\n",
    "    print(\"Price     :\", records[uid]['Price'], \"rs\")\n",
    "    print(\"Quantity  :\", quantity)\n",
    "    print(\"__________________________________________\")\n",
    "    print(\"Billing amount :\", records[uid]['Price'] * quantity, \"rs\")\n",
    "    print(\"__________________________________________\")\n",
    "\n",
    "    \n",
    "     #discount     \n",
    "    if(records[uid]['Price'] * records[uid]['quan'] >1000):\n",
    "        print(\"Discount =\",int(records[uid]['Price'] * quantity) - 100)\n",
    "        \n",
    "    # Generating sales in csv format\n",
    "    sales = '1'+\",\"+user_name+\",\"+user_email+\",\"+user_phno+\",\"+uid+\",\"+records[uid]['name']+\",\"+str(quantity)+\",\"+str(quantity*records[uid]['Price'])+','+time.ctime()+'\\n'\n",
    "\n",
    "    # To reduce the quantity after purchase (updating record)\n",
    "    records[uid]['quan'] = records[uid]['quan'] - quantity\n",
    "\n",
    "# If we are not having enough quantity\n",
    "else:\n",
    "    # Displaying info about available quantity\n",
    "    print(\"Sorry, we do not have enough quantity in our inventory\")\n",
    "    print(\"We are only having\", records[uid]['quan'], \"available\")\n",
    "    print(\"_______________________________________\")\n",
    "    \n",
    "    # If user wants to purchase whole quantity i.e. available quantity\n",
    "    ch = str(input(\"Press Y/y to purchase\"))\n",
    "\n",
    "    if records[uid]['quan'] == 0:\n",
    "        print(\"No items available sorry!!!\")\n",
    "\n",
    "    # If user wants to purchase or not\n",
    "    if ch == 'y' or ch == 'Y':\n",
    "        # Displaying purchase details\n",
    "        print(\"_______________________________________\")\n",
    "        print(\"            BILL DETAILS                \")\n",
    "        print(\"Name      :\", records[uid]['name'])\n",
    "        print(\"Price     :\", records[uid]['Price'], \"rs\")\n",
    "        print(\"Quantity  :\", records[uid]['quan'])\n",
    "        print(\"__________________________________________\")\n",
    "        print(\"Billing amount :\", records[uid]['Price'] * records[uid]['quan'], \"rs\")\n",
    "        print(\"__________________________________________\")\n",
    "\n",
    "        sales = '1'+\",\"+user_name+\",\"+user_email+\",\"+user_phno+\",\"+uid+\",\"+records[uid]['name']+\",\"+str(records[uid]['quan'])+\",\"+str(records[uid]['quan']*records[uid]['Price'])+','+c.time()+'\\n'\n",
    "        \n",
    "        # To reduce the quantity after purchase/as we are giving whole quantity it becomes 0\n",
    "        records[uid]['quan'] = 0\n",
    "\n",
    "    # If user presses anything apart from y/Y\n",
    "    else:\n",
    "        print('Thank youuu!!!!')\n",
    "\n",
    "# Converting dictionary to string to store details in text file convert it into string\n",
    "js = json.dumps(records)\n",
    "\n",
    "# Saving records in JSON file\n",
    "fd = open(\"records.json\", \"w\")\n",
    "fd.write(js)\n",
    "fd.close()\n",
    "\n",
    "# To save sales/transaction in text file\n",
    "fd = open('sales.txt', 'a')\n",
    "fd.write(sales)\n",
    "fd.close()\n",
    "\n",
    "print(\"__________________________________________\")\n",
    "\n",
    "print(\"Thanks for your order inventory updated\")\n",
    "\n",
    "print(\"__________________________________________\")\n"
   ]
  },
  {
   "cell_type": "code",
   "execution_count": null,
   "id": "cd040f1c",
   "metadata": {},
   "outputs": [],
   "source": [
    "#str to dict \n",
    "json.loads(js)"
   ]
  },
  {
   "cell_type": "code",
   "execution_count": null,
   "id": "dae82c0e",
   "metadata": {},
   "outputs": [],
   "source": [
    "#load file- open file -read data from file convert back to dict\n",
    "fd = open(\"records.json\",'r')\n",
    "js =fd.read()\n",
    "fd.close()\n",
    "\n"
   ]
  },
  {
   "cell_type": "code",
   "execution_count": null,
   "id": "8b83a75b",
   "metadata": {},
   "outputs": [],
   "source": [
    "#to save sales/transaction in text file\n",
    "\n",
    "fd =open('sales.txt','a')\n",
    "fd.write(sales)\n",
    "fd.close()"
   ]
  },
  {
   "cell_type": "code",
   "execution_count": null,
   "id": "9d777733",
   "metadata": {},
   "outputs": [],
   "source": [
    "import time\n"
   ]
  },
  {
   "cell_type": "code",
   "execution_count": null,
   "id": "32ca586c",
   "metadata": {},
   "outputs": [],
   "source": [
    "time.ctime()"
   ]
  },
  {
   "cell_type": "code",
   "execution_count": null,
   "id": "1520ccc1",
   "metadata": {},
   "outputs": [],
   "source": [
    "sales = '1'+\",\"+user_name+\",\"+user_email+\",\"+user_phno+\",\"+uid+\",\"+records[uid]['name']+\",\"+str(records[uid]['quan'])"
   ]
  },
  {
   "cell_type": "code",
   "execution_count": null,
   "id": "7d044cc2",
   "metadata": {},
   "outputs": [],
   "source": [
    "js"
   ]
  },
  {
   "cell_type": "code",
   "execution_count": null,
   "id": "93c80aba",
   "metadata": {},
   "outputs": [],
   "source": [
    "records\n"
   ]
  },
  {
   "cell_type": "code",
   "execution_count": null,
   "id": "8c4a7644",
   "metadata": {},
   "outputs": [],
   "source": [
    "json.dumps(records)"
   ]
  },
  {
   "cell_type": "code",
   "execution_count": null,
   "id": "9d667796",
   "metadata": {},
   "outputs": [],
   "source": [
    "#dict to str to store details in text file convert it into string\n",
    "js = json.dumps(records)"
   ]
  },
  {
   "cell_type": "code",
   "execution_count": null,
   "id": "18f1ba09",
   "metadata": {},
   "outputs": [],
   "source": [
    "type(json.dumps(records))"
   ]
  },
  {
   "cell_type": "code",
   "execution_count": null,
   "id": "89b45ce7",
   "metadata": {},
   "outputs": [],
   "source": [
    "js"
   ]
  },
  {
   "cell_type": "code",
   "execution_count": null,
   "id": "51a82cd5",
   "metadata": {},
   "outputs": [],
   "source": [
    "\n",
    "#to write converted string format to text file\n",
    "fd = open(\"records.json\",\"w\")\n",
    "fd.write(js)\n",
    "fd.close()"
   ]
  },
  {
   "cell_type": "code",
   "execution_count": null,
   "id": "b2ecfe71",
   "metadata": {},
   "outputs": [],
   "source": [
    "#string to dictionary\n",
    "json.loads(js)"
   ]
  },
  {
   "cell_type": "code",
   "execution_count": null,
   "id": "6d263c5b",
   "metadata": {},
   "outputs": [],
   "source": [
    "records"
   ]
  },
  {
   "cell_type": "code",
   "execution_count": null,
   "id": "98d216f1",
   "metadata": {},
   "outputs": [],
   "source": [
    "dict ={100 :{'Name':'GFG'},\n",
    "       101: 'not available',\n",
    "       102: {'rollno':1}\n",
    "      }"
   ]
  },
  {
   "cell_type": "code",
   "execution_count": null,
   "id": "57d4b111",
   "metadata": {},
   "outputs": [],
   "source": [
    "print(dict[100][\"Name\"])"
   ]
  },
  {
   "cell_type": "code",
   "execution_count": null,
   "id": "28c23d38",
   "metadata": {},
   "outputs": [],
   "source": []
  }
 ],
 "metadata": {
  "kernelspec": {
   "display_name": "Python 3 (ipykernel)",
   "language": "python",
   "name": "python3"
  },
  "language_info": {
   "codemirror_mode": {
    "name": "ipython",
    "version": 3
   },
   "file_extension": ".py",
   "mimetype": "text/x-python",
   "name": "python",
   "nbconvert_exporter": "python",
   "pygments_lexer": "ipython3",
   "version": "3.11.5"
  }
 },
 "nbformat": 4,
 "nbformat_minor": 5
}
